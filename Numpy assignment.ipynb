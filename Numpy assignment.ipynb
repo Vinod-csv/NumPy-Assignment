{
 "cells": [
  {
   "cell_type": "code",
   "execution_count": 1,
   "metadata": {},
   "outputs": [
    {
     "name": "stdout",
     "output_type": "stream",
     "text": [
      "[20 18 14 22 22 12]\n"
     ]
    }
   ],
   "source": [
    "###     Assignment - Indexing and Slicing\n",
    "#1. Write a NumPy program to generate six random integers between 10 and 30.\n",
    "import numpy as np\n",
    "import random as random\n",
    "quest1 = np.random.randint(10,30,size = 6)\n",
    "print(quest1)\n",
    "\n",
    "\n"
   ]
  },
  {
   "cell_type": "code",
   "execution_count": 2,
   "metadata": {},
   "outputs": [
    {
     "name": "stdout",
     "output_type": "stream",
     "text": [
      "[[20 21 22]\n",
      " [23 24 25]\n",
      " [26 27 28]]\n"
     ]
    }
   ],
   "source": [
    "#   2. Write a NumPy program to create a 3x3 matrix with values ranging from 20 to 28.\n",
    "\n",
    "import numpy as np\n",
    "ques2 = np.arange(20,29).reshape(3,3)\n",
    "print(ques2)"
   ]
  },
  {
   "cell_type": "code",
   "execution_count": 12,
   "metadata": {},
   "outputs": [
    {
     "name": "stdout",
     "output_type": "stream",
     "text": [
      "[1 1 1 1 1 1 1 1 1 1]\n",
      "sixth value: 1 updating it to 25\n",
      "[ 1  1  1  1  1 25  1  1  1  1]\n"
     ]
    }
   ],
   "source": [
    "#   3. Write a NumPy program to create a vector filled with 1s of size 10 and update the sixth value to 25.\n",
    "quest3 = np.ones(10, dtype = int)\n",
    "print(quest3)\n",
    "\n",
    "print(\"sixth value:\",quest3[5],\"updating it to\",quest3[5]*25)\n",
    "quest3[5] = 25\n",
    "print(quest3)\n"
   ]
  },
  {
   "cell_type": "code",
   "execution_count": 4,
   "metadata": {},
   "outputs": [
    {
     "name": "stdout",
     "output_type": "stream",
     "text": [
      "[10 11 12 13 14 15 16 17 18 19 20 21 22 23 24 25 26 27 28 29]\n",
      "Fourth and sevent element are: 13 16 and their sum is: 29\n"
     ]
    }
   ],
   "source": [
    "#   4. Write a program to get fourth and seventh elements from the following array and add them.\n",
    "quest4 = np.arange(10,30)\n",
    "print(quest4)\n",
    "print(\"Fourth and sevent element are:\",quest4[3],quest4[6],\"and their sum is:\",quest4[3] + quest4[6])"
   ]
  },
  {
   "cell_type": "code",
   "execution_count": 5,
   "metadata": {},
   "outputs": [
    {
     "name": "stdout",
     "output_type": "stream",
     "text": [
      "[[20 21 22]\n",
      " [23 24 25]\n",
      " [26 27 28]\n",
      " [29 30 31]\n",
      " [32 33 34]] \n",
      "\n",
      "[[21]\n",
      " [24]\n",
      " [27]]\n"
     ]
    }
   ],
   "source": [
    "#   5. Write a program to get the first three elements of the second column of the array.\n",
    "\n",
    "quest5 = np.arange(20,35).reshape(5,3)\n",
    "print(quest5,\"\\n\")\n",
    "print(quest5[:3:1,1:2:1])\n",
    "\n"
   ]
  },
  {
   "cell_type": "code",
   "execution_count": null,
   "metadata": {},
   "outputs": [],
   "source": []
  },
  {
   "cell_type": "code",
   "execution_count": null,
   "metadata": {},
   "outputs": [],
   "source": []
  }
 ],
 "metadata": {
  "kernelspec": {
   "display_name": "Python 3",
   "language": "python",
   "name": "python3"
  },
  "language_info": {
   "codemirror_mode": {
    "name": "ipython",
    "version": 3
   },
   "file_extension": ".py",
   "mimetype": "text/x-python",
   "name": "python",
   "nbconvert_exporter": "python",
   "pygments_lexer": "ipython3",
   "version": "3.12.4"
  }
 },
 "nbformat": 4,
 "nbformat_minor": 2
}
